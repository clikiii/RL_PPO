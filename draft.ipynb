{
 "cells": [
  {
   "cell_type": "code",
   "execution_count": 1,
   "metadata": {
    "ExecuteTime": {
     "end_time": "2023-04-06T09:10:16.882259Z",
     "start_time": "2023-04-06T09:10:16.879793Z"
    }
   },
   "outputs": [],
   "source": [
    "from gym.envs.box2d.car_racing import CarRacing\n",
    "import random\n",
    "import cv2\n",
    "import numpy as np"
   ]
  },
  {
   "cell_type": "markdown",
   "metadata": {},
   "source": [
    "### Helper functions"
   ]
  },
  {
   "cell_type": "code",
   "execution_count": 3,
   "metadata": {
    "ExecuteTime": {
     "end_time": "2023-04-06T09:02:38.254239Z",
     "start_time": "2023-04-06T09:02:38.250809Z"
    }
   },
   "outputs": [],
   "source": [
    "def gen_random_action_continuous() -> tuple:\n",
    "    \"\"\"\n",
    "    The action tuple should be formed as\n",
    "    (wheel_direction, gas, break)\n",
    "    direction: [-1, 1] -- [full_left, full_right]\n",
    "    gas: [0, 1] -- faster\n",
    "    break: [0, 1] -- slower\n",
    "    \"\"\"\n",
    "\n",
    "    direction = random.uniform(-1, 1)\n",
    "    gas = random.uniform(0, 1)\n",
    "    bk = random.uniform(0, 1)\n",
    "    return (direction, gas, bk)"
   ]
  },
  {
   "cell_type": "markdown",
   "metadata": {},
   "source": [
    "-----"
   ]
  },
  {
   "cell_type": "code",
   "execution_count": 4,
   "metadata": {
    "ExecuteTime": {
     "end_time": "2023-04-06T08:54:07.947673Z",
     "start_time": "2023-04-06T08:54:07.942086Z"
    },
    "collapsed": true
   },
   "outputs": [],
   "source": [
    "def process_game_state_img(state_img):\n",
    "    state_img = cv2.cvtColor(state_img, cv2.COLOR_RGB2GRAY)\n",
    "    return state_img"
   ]
  },
  {
   "attachments": {},
   "cell_type": "markdown",
   "metadata": {},
   "source": [
    "### Testing the env"
   ]
  },
  {
   "cell_type": "code",
   "execution_count": 2,
   "metadata": {
    "ExecuteTime": {
     "end_time": "2023-04-06T09:09:01.987413Z",
     "start_time": "2023-04-06T09:09:01.402181Z"
    }
   },
   "outputs": [],
   "source": [
    "env = CarRacing(render_mode = 'human')\n",
    "state, _ = env.reset()"
   ]
  },
  {
   "cell_type": "code",
   "execution_count": 5,
   "metadata": {},
   "outputs": [
    {
     "data": {
      "text/plain": [
       "(Box([-1.  0.  0.], 1.0, (3,), float32), 3)"
      ]
     },
     "execution_count": 5,
     "metadata": {},
     "output_type": "execute_result"
    },
    {
     "ename": "",
     "evalue": "",
     "output_type": "error",
     "traceback": [
      "\u001b[1;31mThe Kernel crashed while executing code in the the current cell or a previous cell. Please review the code in the cell(s) to identify a possible cause of the failure. Click <a href='https://aka.ms/vscodeJupyterKernelCrash'>here</a> for more info. View Jupyter <a href='command:jupyter.viewOutput'>log</a> for further details."
     ]
    }
   ],
   "source": [
    "env.action_space, env.action_space.shape[0]"
   ]
  },
  {
   "cell_type": "code",
   "execution_count": 6,
   "metadata": {
    "ExecuteTime": {
     "end_time": "2023-04-06T09:04:05.148642Z",
     "start_time": "2023-04-06T09:04:00.354050Z"
    }
   },
   "outputs": [
    {
     "ename": "KeyboardInterrupt",
     "evalue": "",
     "output_type": "error",
     "traceback": [
      "\u001b[0;31m---------------------------------------------------------------------------\u001b[0m",
      "\u001b[0;31mKeyboardInterrupt\u001b[0m                         Traceback (most recent call last)",
      "\u001b[1;32m/Users/naiy/Desktop/University/Year3SemB/CS4486/Assignments/Assignment_3/ppo/draft.ipynb Cell 8\u001b[0m in \u001b[0;36m<cell line: 3>\u001b[0;34m()\u001b[0m\n\u001b[1;32m      <a href='vscode-notebook-cell:/Users/naiy/Desktop/University/Year3SemB/CS4486/Assignments/Assignment_3/ppo/draft.ipynb#X10sZmlsZQ%3D%3D?line=2'>3</a>\u001b[0m env\u001b[39m.\u001b[39mrender()\n\u001b[1;32m      <a href='vscode-notebook-cell:/Users/naiy/Desktop/University/Year3SemB/CS4486/Assignments/Assignment_3/ppo/draft.ipynb#X10sZmlsZQ%3D%3D?line=3'>4</a>\u001b[0m action \u001b[39m=\u001b[39m gen_random_action_continuous()\n\u001b[0;32m----> <a href='vscode-notebook-cell:/Users/naiy/Desktop/University/Year3SemB/CS4486/Assignments/Assignment_3/ppo/draft.ipynb#X10sZmlsZQ%3D%3D?line=4'>5</a>\u001b[0m next_state, reward, done, _, _ \u001b[39m=\u001b[39m env\u001b[39m.\u001b[39;49mstep(action)\n\u001b[1;32m      <a href='vscode-notebook-cell:/Users/naiy/Desktop/University/Year3SemB/CS4486/Assignments/Assignment_3/ppo/draft.ipynb#X10sZmlsZQ%3D%3D?line=5'>6</a>\u001b[0m np\u001b[39m.\u001b[39msave(\u001b[39m'\u001b[39m\u001b[39m./sarr.npy\u001b[39m\u001b[39m'\u001b[39m, next_state)\n",
      "File \u001b[0;32m~/miniconda3/envs/gymtf/lib/python3.8/site-packages/gym/envs/box2d/car_racing.py:564\u001b[0m, in \u001b[0;36mCarRacing.step\u001b[0;34m(self, action)\u001b[0m\n\u001b[1;32m    561\u001b[0m         step_reward \u001b[39m=\u001b[39m \u001b[39m-\u001b[39m\u001b[39m100\u001b[39m\n\u001b[1;32m    563\u001b[0m \u001b[39mif\u001b[39;00m \u001b[39mself\u001b[39m\u001b[39m.\u001b[39mrender_mode \u001b[39m==\u001b[39m \u001b[39m\"\u001b[39m\u001b[39mhuman\u001b[39m\u001b[39m\"\u001b[39m:\n\u001b[0;32m--> 564\u001b[0m     \u001b[39mself\u001b[39;49m\u001b[39m.\u001b[39;49mrender()\n\u001b[1;32m    565\u001b[0m \u001b[39mreturn\u001b[39;00m \u001b[39mself\u001b[39m\u001b[39m.\u001b[39mstate, step_reward, terminated, truncated, {}\n",
      "File \u001b[0;32m~/miniconda3/envs/gymtf/lib/python3.8/site-packages/gym/envs/box2d/car_racing.py:575\u001b[0m, in \u001b[0;36mCarRacing.render\u001b[0;34m(self)\u001b[0m\n\u001b[1;32m    569\u001b[0m     gym\u001b[39m.\u001b[39mlogger\u001b[39m.\u001b[39mwarn(\n\u001b[1;32m    570\u001b[0m         \u001b[39m\"\u001b[39m\u001b[39mYou are calling render method without specifying any render mode. \u001b[39m\u001b[39m\"\u001b[39m\n\u001b[1;32m    571\u001b[0m         \u001b[39m\"\u001b[39m\u001b[39mYou can specify the render_mode at initialization, \u001b[39m\u001b[39m\"\u001b[39m\n\u001b[1;32m    572\u001b[0m         \u001b[39mf\u001b[39m\u001b[39m'\u001b[39m\u001b[39me.g. gym(\u001b[39m\u001b[39m\"\u001b[39m\u001b[39m{\u001b[39;00m\u001b[39mself\u001b[39m\u001b[39m.\u001b[39mspec\u001b[39m.\u001b[39mid\u001b[39m}\u001b[39;00m\u001b[39m\"\u001b[39m\u001b[39m, render_mode=\u001b[39m\u001b[39m\"\u001b[39m\u001b[39mrgb_array\u001b[39m\u001b[39m\"\u001b[39m\u001b[39m)\u001b[39m\u001b[39m'\u001b[39m\n\u001b[1;32m    573\u001b[0m     )\n\u001b[1;32m    574\u001b[0m \u001b[39melse\u001b[39;00m:\n\u001b[0;32m--> 575\u001b[0m     \u001b[39mreturn\u001b[39;00m \u001b[39mself\u001b[39;49m\u001b[39m.\u001b[39;49m_render(\u001b[39mself\u001b[39;49m\u001b[39m.\u001b[39;49mrender_mode)\n",
      "File \u001b[0;32m~/miniconda3/envs/gymtf/lib/python3.8/site-packages/gym/envs/box2d/car_racing.py:625\u001b[0m, in \u001b[0;36mCarRacing._render\u001b[0;34m(self, mode)\u001b[0m\n\u001b[1;32m    623\u001b[0m \u001b[39mif\u001b[39;00m mode \u001b[39m==\u001b[39m \u001b[39m\"\u001b[39m\u001b[39mhuman\u001b[39m\u001b[39m\"\u001b[39m:\n\u001b[1;32m    624\u001b[0m     pygame\u001b[39m.\u001b[39mevent\u001b[39m.\u001b[39mpump()\n\u001b[0;32m--> 625\u001b[0m     \u001b[39mself\u001b[39;49m\u001b[39m.\u001b[39;49mclock\u001b[39m.\u001b[39;49mtick(\u001b[39mself\u001b[39;49m\u001b[39m.\u001b[39;49mmetadata[\u001b[39m\"\u001b[39;49m\u001b[39mrender_fps\u001b[39;49m\u001b[39m\"\u001b[39;49m])\n\u001b[1;32m    626\u001b[0m     \u001b[39massert\u001b[39;00m \u001b[39mself\u001b[39m\u001b[39m.\u001b[39mscreen \u001b[39mis\u001b[39;00m \u001b[39mnot\u001b[39;00m \u001b[39mNone\u001b[39;00m\n\u001b[1;32m    627\u001b[0m     \u001b[39mself\u001b[39m\u001b[39m.\u001b[39mscreen\u001b[39m.\u001b[39mfill(\u001b[39m0\u001b[39m)\n",
      "\u001b[0;31mKeyboardInterrupt\u001b[0m: "
     ]
    }
   ],
   "source": [
    "# state, _ = process_game_state_img(state)\n",
    "while 1:\n",
    "    env.render()\n",
    "    action = gen_random_action_continuous()\n",
    "    next_state, reward, done, _, _ = env.step(action)\n",
    "    np.save('./sarr.npy', next_state)"
   ]
  },
  {
   "cell_type": "code",
   "execution_count": 7,
   "metadata": {},
   "outputs": [
    {
     "ename": "",
     "evalue": "",
     "output_type": "error",
     "traceback": [
      "\u001b[1;31mThe Kernel crashed while executing code in the the current cell or a previous cell. Please review the code in the cell(s) to identify a possible cause of the failure. Click <a href='https://aka.ms/vscodeJupyterKernelCrash'>here</a> for more info. View Jupyter <a href='command:jupyter.viewOutput'>log</a> for further details."
     ]
    }
   ],
   "source": [
    "env.close()"
   ]
  },
  {
   "attachments": {},
   "cell_type": "markdown",
   "metadata": {},
   "source": [
    "### Train"
   ]
  },
  {
   "cell_type": "code",
   "execution_count": null,
   "metadata": {},
   "outputs": [],
   "source": []
  }
 ],
 "metadata": {
  "kernelspec": {
   "display_name": "gymtf",
   "language": "python",
   "name": "python3"
  },
  "language_info": {
   "codemirror_mode": {
    "name": "ipython",
    "version": 3
   },
   "file_extension": ".py",
   "mimetype": "text/x-python",
   "name": "python",
   "nbconvert_exporter": "python",
   "pygments_lexer": "ipython3",
   "version": "3.8.16"
  },
  "varInspector": {
   "cols": {
    "lenName": 16,
    "lenType": 16,
    "lenVar": 40
   },
   "kernels_config": {
    "python": {
     "delete_cmd_postfix": "",
     "delete_cmd_prefix": "del ",
     "library": "var_list.py",
     "varRefreshCmd": "print(var_dic_list())"
    },
    "r": {
     "delete_cmd_postfix": ") ",
     "delete_cmd_prefix": "rm(",
     "library": "var_list.r",
     "varRefreshCmd": "cat(var_dic_list()) "
    }
   },
   "types_to_exclude": [
    "module",
    "function",
    "builtin_function_or_method",
    "instance",
    "_Feature"
   ],
   "window_display": false
  }
 },
 "nbformat": 4,
 "nbformat_minor": 2
}
